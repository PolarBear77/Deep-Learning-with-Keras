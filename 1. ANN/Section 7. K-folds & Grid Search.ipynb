{
 "cells": [
  {
   "cell_type": "code",
   "execution_count": 1,
   "metadata": {
    "collapsed": true
   },
   "outputs": [],
   "source": [
    "# Import the libraries\n",
    "import numpy as np\n",
    "import matplotlib.pyplot as plt\n",
    "import pandas as pd"
   ]
  },
  {
   "cell_type": "markdown",
   "metadata": {},
   "source": [
    "# Part 1 - Data Preprocessing"
   ]
  },
  {
   "cell_type": "code",
   "execution_count": 2,
   "metadata": {
    "collapsed": true
   },
   "outputs": [],
   "source": [
    "# Import the dataset\n",
    "dataset = pd.read_csv('Churn_Modelling.csv')\n",
    "X = dataset.iloc[:, 3:13].values\n",
    "y = dataset.iloc[:, 13].values\n",
    "\n",
    "# Encode categorical data\n",
    "from sklearn.preprocessing import LabelEncoder, OneHotEncoder\n",
    "labelencoder_X_1 = LabelEncoder()\n",
    "X[:, 1] = labelencoder_X_1.fit_transform(X[:, 1])\n",
    "labelencoder_X_2 = LabelEncoder()\n",
    "X[:, 2] = labelencoder_X_2.fit_transform(X[:, 2])\n",
    "onehotencoder = OneHotEncoder(categorical_features = [1])\n",
    "X = onehotencoder.fit_transform(X).toarray()\n",
    "X = X[:, 1:]\n",
    "\n",
    "# Split the dataset into the Training set and Test set\n",
    "from sklearn.model_selection import train_test_split\n",
    "X_train, X_test, y_train, y_test = train_test_split(X, y, test_size = 0.2, random_state = 0)\n",
    "\n",
    "# Feature Scaling\n",
    "from sklearn.preprocessing import StandardScaler\n",
    "sc = StandardScaler()\n",
    "X_train = sc.fit_transform(X_train)\n",
    "X_test = sc.transform(X_test)"
   ]
  },
  {
   "cell_type": "code",
   "execution_count": 3,
   "metadata": {},
   "outputs": [
    {
     "data": {
      "text/plain": [
       "[8000, 2000, 8000, 2000]"
      ]
     },
     "execution_count": 3,
     "metadata": {},
     "output_type": "execute_result"
    }
   ],
   "source": [
    "list(map(len, [X_train, X_test, y_train, y_test]))"
   ]
  },
  {
   "cell_type": "markdown",
   "metadata": {},
   "source": [
    "# Part 2 - Making the ANN"
   ]
  },
  {
   "cell_type": "code",
   "execution_count": 4,
   "metadata": {
    "scrolled": true
   },
   "outputs": [
    {
     "name": "stderr",
     "output_type": "stream",
     "text": [
      "Using TensorFlow backend.\n"
     ]
    },
    {
     "name": "stdout",
     "output_type": "stream",
     "text": [
      "Epoch 1/100\n",
      "8000/8000 [==============================] - 1s 113us/step - loss: 0.5085 - acc: 0.7955\n",
      "Epoch 2/100\n",
      "8000/8000 [==============================] - 1s 80us/step - loss: 0.4284 - acc: 0.7960\n",
      "Epoch 3/100\n",
      "8000/8000 [==============================] - 1s 78us/step - loss: 0.4218 - acc: 0.8126\n",
      "Epoch 4/100\n",
      "8000/8000 [==============================] - 1s 78us/step - loss: 0.4139 - acc: 0.8330\n",
      "Epoch 5/100\n",
      "8000/8000 [==============================] - 1s 80us/step - loss: 0.4082 - acc: 0.8354\n",
      "Epoch 6/100\n",
      "8000/8000 [==============================] - 1s 78us/step - loss: 0.4047 - acc: 0.8337\n",
      "Epoch 7/100\n",
      "8000/8000 [==============================] - 1s 80us/step - loss: 0.4026 - acc: 0.8344\n",
      "Epoch 8/100\n",
      "8000/8000 [==============================] - 1s 80us/step - loss: 0.4014 - acc: 0.8346\n",
      "Epoch 9/100\n",
      "8000/8000 [==============================] - 1s 78us/step - loss: 0.4001 - acc: 0.8354\n",
      "Epoch 10/100\n",
      "8000/8000 [==============================] - 1s 80us/step - loss: 0.3990 - acc: 0.8340\n",
      "Epoch 11/100\n",
      "8000/8000 [==============================] - 1s 78us/step - loss: 0.3983 - acc: 0.8351\n",
      "Epoch 12/100\n",
      "8000/8000 [==============================] - 1s 80us/step - loss: 0.3974 - acc: 0.8341\n",
      "Epoch 13/100\n",
      "8000/8000 [==============================] - 1s 78us/step - loss: 0.3968 - acc: 0.8350\n",
      "Epoch 14/100\n",
      "8000/8000 [==============================] - 1s 80us/step - loss: 0.3959 - acc: 0.8337\n",
      "Epoch 15/100\n",
      "8000/8000 [==============================] - 1s 78us/step - loss: 0.3959 - acc: 0.8339\n",
      "Epoch 16/100\n",
      "8000/8000 [==============================] - 1s 80us/step - loss: 0.3952 - acc: 0.8359\n",
      "Epoch 17/100\n",
      "8000/8000 [==============================] - 1s 80us/step - loss: 0.3941 - acc: 0.8369\n",
      "Epoch 18/100\n",
      "8000/8000 [==============================] - 1s 78us/step - loss: 0.3933 - acc: 0.8386\n",
      "Epoch 19/100\n",
      "8000/8000 [==============================] - 1s 78us/step - loss: 0.3923 - acc: 0.8386\n",
      "Epoch 20/100\n",
      "8000/8000 [==============================] - 1s 80us/step - loss: 0.3894 - acc: 0.8390\n",
      "Epoch 21/100\n",
      "8000/8000 [==============================] - 1s 78us/step - loss: 0.3872 - acc: 0.8404\n",
      "Epoch 22/100\n",
      "8000/8000 [==============================] - 1s 80us/step - loss: 0.3835 - acc: 0.8411\n",
      "Epoch 23/100\n",
      "8000/8000 [==============================] - ETA: 0s - loss: 0.3790 - acc: 0.841 - 1s 78us/step - loss: 0.3793 - acc: 0.8411\n",
      "Epoch 24/100\n",
      "8000/8000 [==============================] - 1s 78us/step - loss: 0.3749 - acc: 0.8417\n",
      "Epoch 25/100\n",
      "8000/8000 [==============================] - 1s 80us/step - loss: 0.3706 - acc: 0.8466\n",
      "Epoch 26/100\n",
      "8000/8000 [==============================] - 1s 78us/step - loss: 0.3658 - acc: 0.8485\n",
      "Epoch 27/100\n",
      "8000/8000 [==============================] - 1s 80us/step - loss: 0.3612 - acc: 0.8514\n",
      "Epoch 28/100\n",
      "8000/8000 [==============================] - 1s 78us/step - loss: 0.3578 - acc: 0.8535\n",
      "Epoch 29/100\n",
      "8000/8000 [==============================] - 1s 78us/step - loss: 0.3550 - acc: 0.8545\n",
      "Epoch 30/100\n",
      "8000/8000 [==============================] - 1s 78us/step - loss: 0.3521 - acc: 0.8567\n",
      "Epoch 31/100\n",
      "8000/8000 [==============================] - 1s 78us/step - loss: 0.3499 - acc: 0.8579\n",
      "Epoch 32/100\n",
      "8000/8000 [==============================] - 1s 78us/step - loss: 0.3476 - acc: 0.8574\n",
      "Epoch 33/100\n",
      "8000/8000 [==============================] - 1s 80us/step - loss: 0.3472 - acc: 0.8572\n",
      "Epoch 34/100\n",
      "8000/8000 [==============================] - 1s 78us/step - loss: 0.3457 - acc: 0.8589\n",
      "Epoch 35/100\n",
      "8000/8000 [==============================] - 1s 78us/step - loss: 0.3453 - acc: 0.8585\n",
      "Epoch 36/100\n",
      "8000/8000 [==============================] - 1s 78us/step - loss: 0.3443 - acc: 0.8614\n",
      "Epoch 37/100\n",
      "8000/8000 [==============================] - 1s 80us/step - loss: 0.3437 - acc: 0.8594\n",
      "Epoch 38/100\n",
      "8000/8000 [==============================] - 1s 78us/step - loss: 0.3437 - acc: 0.8592\n",
      "Epoch 39/100\n",
      "8000/8000 [==============================] - 1s 80us/step - loss: 0.3437 - acc: 0.8594\n",
      "Epoch 40/100\n",
      "8000/8000 [==============================] - 1s 80us/step - loss: 0.3428 - acc: 0.8615\n",
      "Epoch 41/100\n",
      "8000/8000 [==============================] - 1s 78us/step - loss: 0.3427 - acc: 0.8592\n",
      "Epoch 42/100\n",
      "8000/8000 [==============================] - 1s 78us/step - loss: 0.3425 - acc: 0.8615\n",
      "Epoch 43/100\n",
      "8000/8000 [==============================] - 1s 80us/step - loss: 0.3421 - acc: 0.8621\n",
      "Epoch 44/100\n",
      "8000/8000 [==============================] - 1s 78us/step - loss: 0.3415 - acc: 0.8621\n",
      "Epoch 45/100\n",
      "8000/8000 [==============================] - 1s 80us/step - loss: 0.3413 - acc: 0.8607\n",
      "Epoch 46/100\n",
      "8000/8000 [==============================] - 1s 78us/step - loss: 0.3411 - acc: 0.8607\n",
      "Epoch 47/100\n",
      "8000/8000 [==============================] - 1s 80us/step - loss: 0.3410 - acc: 0.8631\n",
      "Epoch 48/100\n",
      "8000/8000 [==============================] - 1s 80us/step - loss: 0.3412 - acc: 0.8600\n",
      "Epoch 49/100\n",
      "8000/8000 [==============================] - 1s 78us/step - loss: 0.3405 - acc: 0.8599\n",
      "Epoch 50/100\n",
      "8000/8000 [==============================] - 1s 78us/step - loss: 0.3401 - acc: 0.8630\n",
      "Epoch 51/100\n",
      "8000/8000 [==============================] - 1s 80us/step - loss: 0.3412 - acc: 0.8600\n",
      "Epoch 52/100\n",
      "8000/8000 [==============================] - 1s 78us/step - loss: 0.3397 - acc: 0.8621\n",
      "Epoch 53/100\n",
      "8000/8000 [==============================] - 1s 80us/step - loss: 0.3397 - acc: 0.8611\n",
      "Epoch 54/100\n",
      "8000/8000 [==============================] - 1s 78us/step - loss: 0.3406 - acc: 0.8614\n",
      "Epoch 55/100\n",
      "8000/8000 [==============================] - 1s 80us/step - loss: 0.3406 - acc: 0.8614\n",
      "Epoch 56/100\n",
      "8000/8000 [==============================] - 1s 78us/step - loss: 0.3409 - acc: 0.8610\n",
      "Epoch 57/100\n",
      "8000/8000 [==============================] - 1s 78us/step - loss: 0.3399 - acc: 0.8587\n",
      "Epoch 58/100\n",
      "8000/8000 [==============================] - 1s 78us/step - loss: 0.3397 - acc: 0.8614\n",
      "Epoch 59/100\n",
      "8000/8000 [==============================] - 1s 78us/step - loss: 0.3387 - acc: 0.8620\n",
      "Epoch 60/100\n",
      "8000/8000 [==============================] - 1s 78us/step - loss: 0.3394 - acc: 0.8600\n",
      "Epoch 61/100\n",
      "8000/8000 [==============================] - 1s 80us/step - loss: 0.3391 - acc: 0.8630\n",
      "Epoch 62/100\n",
      "8000/8000 [==============================] - 1s 78us/step - loss: 0.3386 - acc: 0.8605\n",
      "Epoch 63/100\n",
      "8000/8000 [==============================] - 1s 80us/step - loss: 0.3388 - acc: 0.8610\n",
      "Epoch 64/100\n",
      "8000/8000 [==============================] - 1s 80us/step - loss: 0.3379 - acc: 0.8617\n",
      "Epoch 65/100\n",
      "8000/8000 [==============================] - 1s 78us/step - loss: 0.3388 - acc: 0.8611\n",
      "Epoch 66/100\n",
      "8000/8000 [==============================] - 1s 78us/step - loss: 0.3378 - acc: 0.8622\n",
      "Epoch 67/100\n",
      "8000/8000 [==============================] - 1s 80us/step - loss: 0.3380 - acc: 0.8629\n",
      "Epoch 68/100\n",
      "8000/8000 [==============================] - 1s 78us/step - loss: 0.3378 - acc: 0.8614\n",
      "Epoch 69/100\n",
      "8000/8000 [==============================] - 1s 80us/step - loss: 0.3369 - acc: 0.8615\n",
      "Epoch 70/100\n",
      "8000/8000 [==============================] - 1s 78us/step - loss: 0.3373 - acc: 0.8616\n",
      "Epoch 71/100\n",
      "8000/8000 [==============================] - 1s 80us/step - loss: 0.3361 - acc: 0.8620\n",
      "Epoch 72/100\n",
      "8000/8000 [==============================] - 1s 80us/step - loss: 0.3376 - acc: 0.8611\n",
      "Epoch 73/100\n",
      "8000/8000 [==============================] - 1s 78us/step - loss: 0.3364 - acc: 0.8625\n",
      "Epoch 74/100\n",
      "8000/8000 [==============================] - 1s 80us/step - loss: 0.3364 - acc: 0.8605\n",
      "Epoch 75/100\n",
      "8000/8000 [==============================] - 1s 78us/step - loss: 0.3360 - acc: 0.8619\n",
      "Epoch 76/100\n",
      "8000/8000 [==============================] - 1s 80us/step - loss: 0.3369 - acc: 0.8634\n",
      "Epoch 77/100\n",
      "8000/8000 [==============================] - 1s 78us/step - loss: 0.3367 - acc: 0.8614\n",
      "Epoch 78/100\n",
      "8000/8000 [==============================] - 1s 78us/step - loss: 0.3355 - acc: 0.8625\n",
      "Epoch 79/100\n",
      "8000/8000 [==============================] - 1s 80us/step - loss: 0.3358 - acc: 0.8610\n",
      "Epoch 80/100\n",
      "8000/8000 [==============================] - 1s 78us/step - loss: 0.3355 - acc: 0.8627\n",
      "Epoch 81/100\n",
      "8000/8000 [==============================] - 1s 78us/step - loss: 0.3364 - acc: 0.8607\n",
      "Epoch 82/100\n"
     ]
    },
    {
     "name": "stdout",
     "output_type": "stream",
     "text": [
      "8000/8000 [==============================] - 1s 78us/step - loss: 0.3360 - acc: 0.8642\n",
      "Epoch 83/100\n",
      "8000/8000 [==============================] - 1s 80us/step - loss: 0.3356 - acc: 0.8641\n",
      "Epoch 84/100\n",
      "8000/8000 [==============================] - 1s 78us/step - loss: 0.3353 - acc: 0.8634\n",
      "Epoch 85/100\n",
      "8000/8000 [==============================] - 1s 80us/step - loss: 0.3357 - acc: 0.8620\n",
      "Epoch 86/100\n",
      "8000/8000 [==============================] - 1s 78us/step - loss: 0.3347 - acc: 0.8606\n",
      "Epoch 87/100\n",
      "8000/8000 [==============================] - 1s 80us/step - loss: 0.3348 - acc: 0.8630\n",
      "Epoch 88/100\n",
      "8000/8000 [==============================] - 1s 78us/step - loss: 0.3346 - acc: 0.8627\n",
      "Epoch 89/100\n",
      "8000/8000 [==============================] - 1s 80us/step - loss: 0.3342 - acc: 0.8629\n",
      "Epoch 90/100\n",
      "8000/8000 [==============================] - 1s 78us/step - loss: 0.3343 - acc: 0.8632\n",
      "Epoch 91/100\n",
      "8000/8000 [==============================] - 1s 80us/step - loss: 0.3342 - acc: 0.8641\n",
      "Epoch 92/100\n",
      "8000/8000 [==============================] - 1s 78us/step - loss: 0.3349 - acc: 0.8627\n",
      "Epoch 93/100\n",
      "8000/8000 [==============================] - 1s 80us/step - loss: 0.3341 - acc: 0.8607\n",
      "Epoch 94/100\n",
      "8000/8000 [==============================] - 1s 78us/step - loss: 0.3341 - acc: 0.8627\n",
      "Epoch 95/100\n",
      "8000/8000 [==============================] - 1s 80us/step - loss: 0.3338 - acc: 0.8626\n",
      "Epoch 96/100\n",
      "8000/8000 [==============================] - 1s 78us/step - loss: 0.3339 - acc: 0.8645\n",
      "Epoch 97/100\n",
      "8000/8000 [==============================] - 1s 80us/step - loss: 0.3342 - acc: 0.8642\n",
      "Epoch 98/100\n",
      "8000/8000 [==============================] - 1s 78us/step - loss: 0.3343 - acc: 0.8635\n",
      "Epoch 99/100\n",
      "8000/8000 [==============================] - 1s 80us/step - loss: 0.3339 - acc: 0.8624\n",
      "Epoch 100/100\n",
      "8000/8000 [==============================] - 1s 78us/step - loss: 0.3332 - acc: 0.8646\n"
     ]
    },
    {
     "data": {
      "text/plain": [
       "<keras.callbacks.History at 0xf0e6400>"
      ]
     },
     "execution_count": 4,
     "metadata": {},
     "output_type": "execute_result"
    }
   ],
   "source": [
    "import keras\n",
    "from keras.models import Sequential\n",
    "from keras.layers import Dense\n",
    "\n",
    "# Three layers:\n",
    "# 2 hidden layers - 6 units, relu\n",
    "# 1 output layer - 1 unit, sigmoid\n",
    "classifier = Sequential()\n",
    "\n",
    "classifier.add(Dense(units = 6, kernel_initializer = 'uniform', activation = 'relu', input_dim = 11))\n",
    "classifier.add(Dense(units = 6, kernel_initializer = 'uniform', activation = 'relu'))\n",
    "classifier.add(Dense(units = 1, kernel_initializer = 'uniform', activation = 'sigmoid'))\n",
    "\n",
    "# Binary cross-entropy for binary output\n",
    "classifier.compile(optimizer = 'adam', loss = 'binary_crossentropy', metrics = ['accuracy'])\n",
    "\n",
    "classifier.fit(X_train, y_train, batch_size = 10, epochs = 100)"
   ]
  },
  {
   "cell_type": "markdown",
   "metadata": {},
   "source": [
    "# Part 3 - Making predictions and evaluating the model"
   ]
  },
  {
   "cell_type": "code",
   "execution_count": 6,
   "metadata": {
    "scrolled": true
   },
   "outputs": [
    {
     "data": {
      "text/html": [
       "<div>\n",
       "<style>\n",
       "    .dataframe thead tr:only-child th {\n",
       "        text-align: right;\n",
       "    }\n",
       "\n",
       "    .dataframe thead th {\n",
       "        text-align: left;\n",
       "    }\n",
       "\n",
       "    .dataframe tbody tr th {\n",
       "        vertical-align: top;\n",
       "    }\n",
       "</style>\n",
       "<table border=\"1\" class=\"dataframe\">\n",
       "  <thead>\n",
       "    <tr style=\"text-align: right;\">\n",
       "      <th></th>\n",
       "      <th>Predicted Postive</th>\n",
       "      <th>Predicted Negative</th>\n",
       "    </tr>\n",
       "  </thead>\n",
       "  <tbody>\n",
       "    <tr>\n",
       "      <th>Actual Positive</th>\n",
       "      <td>1527</td>\n",
       "      <td>68</td>\n",
       "    </tr>\n",
       "    <tr>\n",
       "      <th>Actual Negative</th>\n",
       "      <td>212</td>\n",
       "      <td>193</td>\n",
       "    </tr>\n",
       "  </tbody>\n",
       "</table>\n",
       "</div>"
      ],
      "text/plain": [
       "                 Predicted Postive  Predicted Negative\n",
       "Actual Positive               1527                  68\n",
       "Actual Negative                212                 193"
      ]
     },
     "execution_count": 6,
     "metadata": {},
     "output_type": "execute_result"
    }
   ],
   "source": [
    "# Predicting the Test set results\n",
    "y_pred = classifier.predict(X_test)\n",
    "y_pred = (y_pred > 0.5)\n",
    "\n",
    "# Making the Confusion Matrix\n",
    "from sklearn.metrics import confusion_matrix\n",
    "cm = confusion_matrix(y_test, y_pred)\n",
    "import pandas as pd\n",
    "pd.DataFrame(cm, index = [\"Actual Positive\", \"Actual Negative\"], columns = [\"Predicted Postive\", \"Predicted Negative\"])"
   ]
  },
  {
   "cell_type": "markdown",
   "metadata": {},
   "source": [
    "# Part 4 - K-fold Cross validation\n",
    "- note that Cross validation can be computationally heavy\n",
    "- be sure to use cross_val_score( . . . , ***n_jobs = -1***) to use all CPUs when calculating"
   ]
  },
  {
   "cell_type": "code",
   "execution_count": null,
   "metadata": {
    "collapsed": true
   },
   "outputs": [],
   "source": []
  },
  {
   "cell_type": "markdown",
   "metadata": {},
   "source": [
    "# Part 5 - Grid Search\n",
    "- Iterate through a set of hyper-parameters"
   ]
  },
  {
   "cell_type": "code",
   "execution_count": null,
   "metadata": {
    "collapsed": true,
    "scrolled": true
   },
   "outputs": [],
   "source": [
    "from keras.wrappers.scikit_learn import KerasClassifier\n",
    "from sklearn.model_selection import GridSearchCV\n",
    "from keras.models import Sequential\n",
    "from keras.layers import Dense\n",
    "\n",
    "# Function to pass to grid search\n",
    "def build_classifier(optimizer):\n",
    "    classifier = Sequential()\n",
    "    \n",
    "    classifier.add(Dense(units=6, activation='relu', kernel_initializer = 'uniform', input_dim = 11))\n",
    "    classifier.add(Dense(units=6, activation='relu',  kernel_initializer = 'uniform'))\n",
    "    classifier.add(Dense(units=1, activation='sigmoid',  kernel_initializer = 'uniform'))\n",
    "    \n",
    "    classifier.compile(optimizer=optimizer, loss='binary_crossentropy', metrics=['accuracy'])\n",
    "    return classifier\n",
    "\n",
    "# Scikit-learn classifier AP implementation for Keras \n",
    "classifier = KerasClassifier(build_fn = build_classifier)\n",
    "\n",
    "# Hyper-params\n",
    "parameters = {'batch_size': [25, 32],\n",
    "             'epochs': [100, 500],\n",
    "             'optimizer': ['adam','rmsprop']}\n",
    "\n",
    "grid_search = GridSearchCV(estimator = classifier, param_grid = parameters, scoring = 'accuracy', cv = 10, n_jobs = -1)\n",
    "\n",
    "# Train & retrive best results\n",
    "grid_search = grid_search.fit(X_train, y_train)\n",
    "best_params = gird_search.best_params_\n",
    "best_accuracy = grid.search.best_score_"
   ]
  },
  {
   "cell_type": "markdown",
   "metadata": {},
   "source": [
    "#### With dropout layers"
   ]
  },
  {
   "cell_type": "code",
   "execution_count": null,
   "metadata": {},
   "outputs": [
    {
     "name": "stderr",
     "output_type": "stream",
     "text": [
      "Using TensorFlow backend.\n"
     ]
    }
   ],
   "source": [
    "from keras.wrappers.scikit_learn import KerasClassifier\n",
    "from sklearn.model_selection import GridSearchCV\n",
    "from keras.models import Sequential\n",
    "from keras.layers import Dense, Dropout\n",
    "\n",
    "# Function to pass to grid search\n",
    "def build_classifier(optimizer, dropRate):\n",
    "    classifier = Sequential()\n",
    "    \n",
    "    classifier.add(Dense(units=10, activation='relu', kernel_initializer = 'uniform', input_dim = 11))\n",
    "    classifier.add(Dropout(dropRate))\n",
    "    classifier.add(Dense(units=10, activation='relu',  kernel_initializer = 'uniform'))\n",
    "    classifier.add(Dropout(dropRate))\n",
    "    classifier.add(Dense(units=1, activation='sigmoid',  kernel_initializer = 'uniform'))\n",
    "    \n",
    "    classifier.compile(optimizer=optimizer, loss='binary_crossentropy', metrics=['accuracy'])\n",
    "    return classifier\n",
    "\n",
    "# Scikit-learn classifier AP implementation for Keras \n",
    "classifier = KerasClassifier(build_fn = build_classifier)\n",
    "\n",
    "# Hyper-params\n",
    "parameters = {'batch_size': [25, 32],\n",
    "             'epochs': [100, 500],\n",
    "             'optimizer': ['adam','rmsprop'],\n",
    "             'dropRate': [0.1, 0.2, 0.3, 0.4, 0.5]}\n",
    "\n",
    "grid_search = GridSearchCV(estimator = classifier, param_grid = parameters, scoring = 'accuracy', cv = 10, n_jobs = -1)\n",
    "\n",
    "# Train & retrive best results\n",
    "grid_search = grid_search.fit(X_train, y_train)\n",
    "best_params = gird_search.best_params_\n",
    "best_accuracy = grid.search.best_score_"
   ]
  },
  {
   "cell_type": "code",
   "execution_count": 30,
   "metadata": {},
   "outputs": [
    {
     "data": {
      "text/plain": [
       "(8000,)"
      ]
     },
     "execution_count": 30,
     "metadata": {},
     "output_type": "execute_result"
    }
   ],
   "source": [
    "y_train.shape"
   ]
  },
  {
   "cell_type": "code",
   "execution_count": null,
   "metadata": {
    "collapsed": true
   },
   "outputs": [],
   "source": []
  }
 ],
 "metadata": {
  "kernelspec": {
   "display_name": "Python 3",
   "language": "python",
   "name": "python3"
  },
  "language_info": {
   "codemirror_mode": {
    "name": "ipython",
    "version": 3
   },
   "file_extension": ".py",
   "mimetype": "text/x-python",
   "name": "python",
   "nbconvert_exporter": "python",
   "pygments_lexer": "ipython3",
   "version": "3.6.3"
  }
 },
 "nbformat": 4,
 "nbformat_minor": 2
}
